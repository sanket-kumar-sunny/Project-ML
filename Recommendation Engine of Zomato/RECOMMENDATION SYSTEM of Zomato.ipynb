{
 "cells": [
  {
   "cell_type": "code",
   "execution_count": 1,
   "metadata": {},
   "outputs": [],
   "source": [
    "import pandas as pd\n",
    "import numpy as np\n",
    "import folium"
   ]
  },
  {
   "cell_type": "code",
   "execution_count": 2,
   "metadata": {
    "scrolled": false
   },
   "outputs": [
    {
     "data": {
      "text/html": [
       "<div>\n",
       "<style scoped>\n",
       "    .dataframe tbody tr th:only-of-type {\n",
       "        vertical-align: middle;\n",
       "    }\n",
       "\n",
       "    .dataframe tbody tr th {\n",
       "        vertical-align: top;\n",
       "    }\n",
       "\n",
       "    .dataframe thead th {\n",
       "        text-align: right;\n",
       "    }\n",
       "</style>\n",
       "<table border=\"1\" class=\"dataframe\">\n",
       "  <thead>\n",
       "    <tr style=\"text-align: right;\">\n",
       "      <th></th>\n",
       "      <th>Restaurant ID</th>\n",
       "      <th>Restaurant Name</th>\n",
       "      <th>City</th>\n",
       "      <th>Longitude</th>\n",
       "      <th>Latitude</th>\n",
       "      <th>Cuisines</th>\n",
       "      <th>Aggregate rating</th>\n",
       "      <th>Votes</th>\n",
       "    </tr>\n",
       "  </thead>\n",
       "  <tbody>\n",
       "    <tr>\n",
       "      <td>0</td>\n",
       "      <td>5600701</td>\n",
       "      <td>Nando's</td>\n",
       "      <td>Sharjah</td>\n",
       "      <td>55.376027</td>\n",
       "      <td>25.321890</td>\n",
       "      <td>African, Portuguese</td>\n",
       "      <td>4.2</td>\n",
       "      <td>265</td>\n",
       "    </tr>\n",
       "    <tr>\n",
       "      <td>1</td>\n",
       "      <td>18212135</td>\n",
       "      <td>Denny's</td>\n",
       "      <td>Abu Dhabi</td>\n",
       "      <td>54.382797</td>\n",
       "      <td>24.495503</td>\n",
       "      <td>American</td>\n",
       "      <td>4.6</td>\n",
       "      <td>207</td>\n",
       "    </tr>\n",
       "    <tr>\n",
       "      <td>2</td>\n",
       "      <td>5704255</td>\n",
       "      <td>Famous Dave's Barbecue</td>\n",
       "      <td>Abu Dhabi</td>\n",
       "      <td>54.382946</td>\n",
       "      <td>24.495693</td>\n",
       "      <td>American</td>\n",
       "      <td>4.6</td>\n",
       "      <td>376</td>\n",
       "    </tr>\n",
       "    <tr>\n",
       "      <td>3</td>\n",
       "      <td>201531</td>\n",
       "      <td>Hard Rock Cafe</td>\n",
       "      <td>Dubai</td>\n",
       "      <td>55.351478</td>\n",
       "      <td>25.223992</td>\n",
       "      <td>American, Burger</td>\n",
       "      <td>4.5</td>\n",
       "      <td>1388</td>\n",
       "    </tr>\n",
       "    <tr>\n",
       "      <td>4</td>\n",
       "      <td>5702574</td>\n",
       "      <td>The Cheesecake Factory</td>\n",
       "      <td>Abu Dhabi</td>\n",
       "      <td>54.606854</td>\n",
       "      <td>24.490531</td>\n",
       "      <td>American, Desserts</td>\n",
       "      <td>4.6</td>\n",
       "      <td>586</td>\n",
       "    </tr>\n",
       "  </tbody>\n",
       "</table>\n",
       "</div>"
      ],
      "text/plain": [
       "   Restaurant ID         Restaurant Name       City  Longitude   Latitude  \\\n",
       "0        5600701                 Nando's    Sharjah  55.376027  25.321890   \n",
       "1       18212135                 Denny's  Abu Dhabi  54.382797  24.495503   \n",
       "2        5704255  Famous Dave's Barbecue  Abu Dhabi  54.382946  24.495693   \n",
       "3         201531          Hard Rock Cafe      Dubai  55.351478  25.223992   \n",
       "4        5702574  The Cheesecake Factory  Abu Dhabi  54.606854  24.490531   \n",
       "\n",
       "              Cuisines  Aggregate rating  Votes  \n",
       "0  African, Portuguese               4.2    265  \n",
       "1             American               4.6    207  \n",
       "2             American               4.6    376  \n",
       "3     American, Burger               4.5   1388  \n",
       "4   American, Desserts               4.6    586  "
      ]
     },
     "execution_count": 2,
     "metadata": {},
     "output_type": "execute_result"
    }
   ],
   "source": [
    "# Getting the data\n",
    "df = pd.read_excel(\"C:/Sanket.f/Hacker Earth/food_data.xlsx\")\n",
    "df.head()"
   ]
  },
  {
   "cell_type": "code",
   "execution_count": 3,
   "metadata": {},
   "outputs": [
    {
     "data": {
      "text/plain": [
       "Index(['Restaurant ID', 'Restaurant Name', 'City', 'Longitude', 'Latitude',\n",
       "       'Cuisines', 'Aggregate rating', 'Votes'],\n",
       "      dtype='object')"
      ]
     },
     "execution_count": 3,
     "metadata": {},
     "output_type": "execute_result"
    }
   ],
   "source": [
    "df.columns"
   ]
  },
  {
   "cell_type": "code",
   "execution_count": 4,
   "metadata": {
    "scrolled": true
   },
   "outputs": [
    {
     "data": {
      "text/plain": [
       "Restaurant ID       0\n",
       "Restaurant Name     0\n",
       "City                0\n",
       "Longitude           0\n",
       "Latitude            0\n",
       "Cuisines            0\n",
       "Aggregate rating    0\n",
       "Votes               0\n",
       "dtype: int64"
      ]
     },
     "execution_count": 4,
     "metadata": {},
     "output_type": "execute_result"
    }
   ],
   "source": [
    "df.isnull().sum()"
   ]
  },
  {
   "cell_type": "code",
   "execution_count": 5,
   "metadata": {
    "scrolled": false
   },
   "outputs": [
    {
     "data": {
      "text/html": [
       "<div>\n",
       "<style scoped>\n",
       "    .dataframe tbody tr th:only-of-type {\n",
       "        vertical-align: middle;\n",
       "    }\n",
       "\n",
       "    .dataframe tbody tr th {\n",
       "        vertical-align: top;\n",
       "    }\n",
       "\n",
       "    .dataframe thead th {\n",
       "        text-align: right;\n",
       "    }\n",
       "</style>\n",
       "<table border=\"1\" class=\"dataframe\">\n",
       "  <thead>\n",
       "    <tr style=\"text-align: right;\">\n",
       "      <th></th>\n",
       "      <th>Restaurant ID</th>\n",
       "      <th>Longitude</th>\n",
       "      <th>Latitude</th>\n",
       "      <th>Aggregate rating</th>\n",
       "      <th>Votes</th>\n",
       "    </tr>\n",
       "  </thead>\n",
       "  <tbody>\n",
       "    <tr>\n",
       "      <td>count</td>\n",
       "      <td>8.000000e+01</td>\n",
       "      <td>80.000000</td>\n",
       "      <td>80.000000</td>\n",
       "      <td>80.000000</td>\n",
       "      <td>80.000000</td>\n",
       "    </tr>\n",
       "    <tr>\n",
       "      <td>mean</td>\n",
       "      <td>7.931426e+06</td>\n",
       "      <td>54.147781</td>\n",
       "      <td>25.068348</td>\n",
       "      <td>4.190000</td>\n",
       "      <td>411.087500</td>\n",
       "    </tr>\n",
       "    <tr>\n",
       "      <td>std</td>\n",
       "      <td>6.345843e+06</td>\n",
       "      <td>1.579161</td>\n",
       "      <td>0.356002</td>\n",
       "      <td>0.425039</td>\n",
       "      <td>459.856037</td>\n",
       "    </tr>\n",
       "    <tr>\n",
       "      <td>min</td>\n",
       "      <td>2.010440e+05</td>\n",
       "      <td>51.350047</td>\n",
       "      <td>24.334217</td>\n",
       "      <td>2.400000</td>\n",
       "      <td>12.000000</td>\n",
       "    </tr>\n",
       "    <tr>\n",
       "      <td>25%</td>\n",
       "      <td>5.600894e+06</td>\n",
       "      <td>53.655050</td>\n",
       "      <td>24.945206</td>\n",
       "      <td>3.975000</td>\n",
       "      <td>175.500000</td>\n",
       "    </tr>\n",
       "    <tr>\n",
       "      <td>50%</td>\n",
       "      <td>5.702198e+06</td>\n",
       "      <td>54.892800</td>\n",
       "      <td>25.253079</td>\n",
       "      <td>4.200000</td>\n",
       "      <td>272.500000</td>\n",
       "    </tr>\n",
       "    <tr>\n",
       "      <td>75%</td>\n",
       "      <td>9.141364e+06</td>\n",
       "      <td>55.356323</td>\n",
       "      <td>25.308412</td>\n",
       "      <td>4.500000</td>\n",
       "      <td>451.500000</td>\n",
       "    </tr>\n",
       "    <tr>\n",
       "      <td>max</td>\n",
       "      <td>1.842659e+07</td>\n",
       "      <td>55.460279</td>\n",
       "      <td>25.355083</td>\n",
       "      <td>4.900000</td>\n",
       "      <td>2510.000000</td>\n",
       "    </tr>\n",
       "  </tbody>\n",
       "</table>\n",
       "</div>"
      ],
      "text/plain": [
       "       Restaurant ID  Longitude   Latitude  Aggregate rating        Votes\n",
       "count   8.000000e+01  80.000000  80.000000         80.000000    80.000000\n",
       "mean    7.931426e+06  54.147781  25.068348          4.190000   411.087500\n",
       "std     6.345843e+06   1.579161   0.356002          0.425039   459.856037\n",
       "min     2.010440e+05  51.350047  24.334217          2.400000    12.000000\n",
       "25%     5.600894e+06  53.655050  24.945206          3.975000   175.500000\n",
       "50%     5.702198e+06  54.892800  25.253079          4.200000   272.500000\n",
       "75%     9.141364e+06  55.356323  25.308412          4.500000   451.500000\n",
       "max     1.842659e+07  55.460279  25.355083          4.900000  2510.000000"
      ]
     },
     "execution_count": 5,
     "metadata": {},
     "output_type": "execute_result"
    }
   ],
   "source": [
    "df.describe()"
   ]
  },
  {
   "cell_type": "markdown",
   "metadata": {},
   "source": [
    "# Recommendation System\n",
    "\n",
    "A recommender system, or a recommendation system, is a subclass of information filtering system that seeks to predict the \"rating\" or \"preference\" a user would give to an item. They are primarily used in commercial applications.\n",
    "\n",
    "Recommender systems are utilized in a variety of areas and are most commonly recognized as playlist generators for video and music services like Netflix, YouTube and Spotify, product recommenders for services such as Amazon, or content recommenders for social media platforms such as Facebook and Twitter,and open web content recommenders like Outbrain. These systems can operate using a single input, like music, or multiple inputs within and across platforms like news, books, and search queries. There are also popular recommender systems for specific topics like restaurants and online dating. Recommender systems have also been developed to explore research articles and experts, collaborators, and financial services.\n"
   ]
  },
  {
   "cell_type": "markdown",
   "metadata": {},
   "source": [
    "This is `General Collaborative` filter in which nearby `Restuarant` is searched and highest `Aggregate rating` of `Cuisines` is sorted."
   ]
  },
  {
   "cell_type": "code",
   "execution_count": 6,
   "metadata": {},
   "outputs": [],
   "source": [
    "def location(Longitude, Latitude):\n",
    "    \n",
    "    \n",
    "    df[\"Longitude_sub\"] = (df[\"Longitude\"] - Longitude) # subtracting the input Longitude with Actual Longitude column and storing it in new colum\n",
    "    new_data = (df[\"Longitude_sub\"]**2).sort_values(ascending = True) # Squaring and sorting the value to avoid negative values\n",
    "    df[\"Latitude_sub\"] = (df[\"Latitude\"] - Latitude)\n",
    "    df[\"new_data\"] = df[\"Longitude_sub\"] - df[\"Latitude_sub\"]\n",
    "    df[\"new_data\"]= df[\"new_data\"]**2\n",
    "    sorted_df = df[\"new_data\"].sort_values(ascending = True)\n",
    "    \n",
    "    list = [] # Creating new list to store the index of sorted value\n",
    "    \n",
    "    \n",
    "    for index in sorted_df[:5].index:\n",
    "        list.append(index)\n",
    "    \n",
    "    \n",
    "    for index in list[:1]:\n",
    "        print(\"Input Location City: \", df[\"City\"][index])\n",
    "    \n",
    "    # Creating the new dataframe for latitude and longitude\n",
    "    \n",
    "    new_df = pd.DataFrame(columns = [\"Cuisines\"])\n",
    "    new_loc_df = pd.DataFrame(columns = [\"Longitude\"])\n",
    "    new_df[\"Cuisines\"] = df[\"Cuisines\"][list]\n",
    "    new_df[\"Aggregate rating\"] = df[\"Aggregate rating\"][list]\n",
    "    new_loc_df[\"Longitude\"] = df[\"Longitude\"][list]\n",
    "    new_loc_df[\"Latitude\"] = df[\"Latitude\"][list]\n",
    "    print(new_df.sort_values(by=\"Aggregate rating\", ascending = False)) # Sorting by \"Aggregate rating\" for particular nearby locations\n",
    "    \n",
    "    \n",
    "    # Creating Map using Folium library\n",
    "    m = folium.Map(location = [Latitude, Longitude], zoom_start = 12)\n",
    "    \n",
    "    # Creating Global tooltip\n",
    "    tooltip = \"Click for more info\"\n",
    "    \n",
    "    #Create Markers\n",
    "    folium.Marker([Latitude, Longitude],\n",
    "                 popup = '<strong>Location One</strong',\n",
    "                 tooltip = tooltip,\n",
    "                 icon=folium.Icon(color = 'blue')).add_to(m),\n",
    "    display(m)\n",
    "    # Creating marker for all nearby restuarants\n",
    "    for i in list:\n",
    "        folium.Marker([new_loc_df[\"Latitude\"][i], new_loc_df[\"Longitude\"][i]],\n",
    "                     popup = '<strong>Location One</strong',\n",
    "                     tooltip = tooltip,\n",
    "                     icon=folium.Icon(color = 'green')).add_to(m)\n",
    "    \n",
    "    # Generate map\n",
    "    display(m)"
   ]
  },
  {
   "cell_type": "code",
   "execution_count": 7,
   "metadata": {},
   "outputs": [
    {
     "name": "stdout",
     "output_type": "stream",
     "text": [
      "Input Location City:  Abu Dhabi\n",
      "                         Cuisines  Aggregate rating\n",
      "1                        American               4.6\n",
      "2                        American               4.6\n",
      "29      Filipino, Japanese, Asian               4.5\n",
      "31                         Indian               4.3\n",
      "47  Indian, North Indian, Chinese               4.0\n"
     ]
    },
    {
     "data": {
      "text/html": [
       "<div style=\"width:100%;\"><div style=\"position:relative;width:100%;height:0;padding-bottom:60%;\"><span style=\"color:#565656\">Make this Notebook Trusted to load map: File -> Trust Notebook</span><iframe src=\"about:blank\" style=\"position:absolute;width:100%;height:100%;left:0;top:0;border:none !important;\" data-html=PCFET0NUWVBFIGh0bWw+CjxoZWFkPiAgICAKICAgIDxtZXRhIGh0dHAtZXF1aXY9ImNvbnRlbnQtdHlwZSIgY29udGVudD0idGV4dC9odG1sOyBjaGFyc2V0PVVURi04IiAvPgogICAgCiAgICAgICAgPHNjcmlwdD4KICAgICAgICAgICAgTF9OT19UT1VDSCA9IGZhbHNlOwogICAgICAgICAgICBMX0RJU0FCTEVfM0QgPSBmYWxzZTsKICAgICAgICA8L3NjcmlwdD4KICAgIAogICAgPHNjcmlwdCBzcmM9Imh0dHBzOi8vY2RuLmpzZGVsaXZyLm5ldC9ucG0vbGVhZmxldEAxLjYuMC9kaXN0L2xlYWZsZXQuanMiPjwvc2NyaXB0PgogICAgPHNjcmlwdCBzcmM9Imh0dHBzOi8vY29kZS5qcXVlcnkuY29tL2pxdWVyeS0xLjEyLjQubWluLmpzIj48L3NjcmlwdD4KICAgIDxzY3JpcHQgc3JjPSJodHRwczovL21heGNkbi5ib290c3RyYXBjZG4uY29tL2Jvb3RzdHJhcC8zLjIuMC9qcy9ib290c3RyYXAubWluLmpzIj48L3NjcmlwdD4KICAgIDxzY3JpcHQgc3JjPSJodHRwczovL2NkbmpzLmNsb3VkZmxhcmUuY29tL2FqYXgvbGlicy9MZWFmbGV0LmF3ZXNvbWUtbWFya2Vycy8yLjAuMi9sZWFmbGV0LmF3ZXNvbWUtbWFya2Vycy5qcyI+PC9zY3JpcHQ+CiAgICA8bGluayByZWw9InN0eWxlc2hlZXQiIGhyZWY9Imh0dHBzOi8vY2RuLmpzZGVsaXZyLm5ldC9ucG0vbGVhZmxldEAxLjYuMC9kaXN0L2xlYWZsZXQuY3NzIi8+CiAgICA8bGluayByZWw9InN0eWxlc2hlZXQiIGhyZWY9Imh0dHBzOi8vbWF4Y2RuLmJvb3RzdHJhcGNkbi5jb20vYm9vdHN0cmFwLzMuMi4wL2Nzcy9ib290c3RyYXAubWluLmNzcyIvPgogICAgPGxpbmsgcmVsPSJzdHlsZXNoZWV0IiBocmVmPSJodHRwczovL21heGNkbi5ib290c3RyYXBjZG4uY29tL2Jvb3RzdHJhcC8zLjIuMC9jc3MvYm9vdHN0cmFwLXRoZW1lLm1pbi5jc3MiLz4KICAgIDxsaW5rIHJlbD0ic3R5bGVzaGVldCIgaHJlZj0iaHR0cHM6Ly9tYXhjZG4uYm9vdHN0cmFwY2RuLmNvbS9mb250LWF3ZXNvbWUvNC42LjMvY3NzL2ZvbnQtYXdlc29tZS5taW4uY3NzIi8+CiAgICA8bGluayByZWw9InN0eWxlc2hlZXQiIGhyZWY9Imh0dHBzOi8vY2RuanMuY2xvdWRmbGFyZS5jb20vYWpheC9saWJzL0xlYWZsZXQuYXdlc29tZS1tYXJrZXJzLzIuMC4yL2xlYWZsZXQuYXdlc29tZS1tYXJrZXJzLmNzcyIvPgogICAgPGxpbmsgcmVsPSJzdHlsZXNoZWV0IiBocmVmPSJodHRwczovL3Jhd2Nkbi5naXRoYWNrLmNvbS9weXRob24tdmlzdWFsaXphdGlvbi9mb2xpdW0vbWFzdGVyL2ZvbGl1bS90ZW1wbGF0ZXMvbGVhZmxldC5hd2Vzb21lLnJvdGF0ZS5jc3MiLz4KICAgIDxzdHlsZT5odG1sLCBib2R5IHt3aWR0aDogMTAwJTtoZWlnaHQ6IDEwMCU7bWFyZ2luOiAwO3BhZGRpbmc6IDA7fTwvc3R5bGU+CiAgICA8c3R5bGU+I21hcCB7cG9zaXRpb246YWJzb2x1dGU7dG9wOjA7Ym90dG9tOjA7cmlnaHQ6MDtsZWZ0OjA7fTwvc3R5bGU+CiAgICAKICAgICAgICAgICAgPG1ldGEgbmFtZT0idmlld3BvcnQiIGNvbnRlbnQ9IndpZHRoPWRldmljZS13aWR0aCwKICAgICAgICAgICAgICAgIGluaXRpYWwtc2NhbGU9MS4wLCBtYXhpbXVtLXNjYWxlPTEuMCwgdXNlci1zY2FsYWJsZT1ubyIgLz4KICAgICAgICAgICAgPHN0eWxlPgogICAgICAgICAgICAgICAgI21hcF8wYzNmYzQ4MzViNzY0MmMwYjBhZjkzNzg1NjAzNDMwYiB7CiAgICAgICAgICAgICAgICAgICAgcG9zaXRpb246IHJlbGF0aXZlOwogICAgICAgICAgICAgICAgICAgIHdpZHRoOiAxMDAuMCU7CiAgICAgICAgICAgICAgICAgICAgaGVpZ2h0OiAxMDAuMCU7CiAgICAgICAgICAgICAgICAgICAgbGVmdDogMC4wJTsKICAgICAgICAgICAgICAgICAgICB0b3A6IDAuMCU7CiAgICAgICAgICAgICAgICB9CiAgICAgICAgICAgIDwvc3R5bGU+CiAgICAgICAgCjwvaGVhZD4KPGJvZHk+ICAgIAogICAgCiAgICAgICAgICAgIDxkaXYgY2xhc3M9ImZvbGl1bS1tYXAiIGlkPSJtYXBfMGMzZmM0ODM1Yjc2NDJjMGIwYWY5Mzc4NTYwMzQzMGIiID48L2Rpdj4KICAgICAgICAKPC9ib2R5Pgo8c2NyaXB0PiAgICAKICAgIAogICAgICAgICAgICB2YXIgbWFwXzBjM2ZjNDgzNWI3NjQyYzBiMGFmOTM3ODU2MDM0MzBiID0gTC5tYXAoCiAgICAgICAgICAgICAgICAibWFwXzBjM2ZjNDgzNWI3NjQyYzBiMGFmOTM3ODU2MDM0MzBiIiwKICAgICAgICAgICAgICAgIHsKICAgICAgICAgICAgICAgICAgICBjZW50ZXI6IFsyNC40OTU1MDMsIDU0LjM4Mjc5N10sCiAgICAgICAgICAgICAgICAgICAgY3JzOiBMLkNSUy5FUFNHMzg1NywKICAgICAgICAgICAgICAgICAgICB6b29tOiAxMiwKICAgICAgICAgICAgICAgICAgICB6b29tQ29udHJvbDogdHJ1ZSwKICAgICAgICAgICAgICAgICAgICBwcmVmZXJDYW52YXM6IGZhbHNlLAogICAgICAgICAgICAgICAgfQogICAgICAgICAgICApOwoKICAgICAgICAgICAgCgogICAgICAgIAogICAgCiAgICAgICAgICAgIHZhciB0aWxlX2xheWVyX2IwOGZjYzA2MTZkMjQ2MjJiNjlkNjlmYjMxZDYxOWU5ID0gTC50aWxlTGF5ZXIoCiAgICAgICAgICAgICAgICAiaHR0cHM6Ly97c30udGlsZS5vcGVuc3RyZWV0bWFwLm9yZy97en0ve3h9L3t5fS5wbmciLAogICAgICAgICAgICAgICAgeyJhdHRyaWJ1dGlvbiI6ICJEYXRhIGJ5IFx1MDAyNmNvcHk7IFx1MDAzY2EgaHJlZj1cImh0dHA6Ly9vcGVuc3RyZWV0bWFwLm9yZ1wiXHUwMDNlT3BlblN0cmVldE1hcFx1MDAzYy9hXHUwMDNlLCB1bmRlciBcdTAwM2NhIGhyZWY9XCJodHRwOi8vd3d3Lm9wZW5zdHJlZXRtYXAub3JnL2NvcHlyaWdodFwiXHUwMDNlT0RiTFx1MDAzYy9hXHUwMDNlLiIsICJkZXRlY3RSZXRpbmEiOiBmYWxzZSwgIm1heE5hdGl2ZVpvb20iOiAxOCwgIm1heFpvb20iOiAxOCwgIm1pblpvb20iOiAwLCAibm9XcmFwIjogZmFsc2UsICJvcGFjaXR5IjogMSwgInN1YmRvbWFpbnMiOiAiYWJjIiwgInRtcyI6IGZhbHNlfQogICAgICAgICAgICApLmFkZFRvKG1hcF8wYzNmYzQ4MzViNzY0MmMwYjBhZjkzNzg1NjAzNDMwYik7CiAgICAgICAgCiAgICAKICAgICAgICAgICAgdmFyIG1hcmtlcl9mNGZiMTc0MjRkM2Q0MTg1OTQ1N2M2MzBkZjU3OGI1MCA9IEwubWFya2VyKAogICAgICAgICAgICAgICAgWzI0LjQ5NTUwMywgNTQuMzgyNzk3XSwKICAgICAgICAgICAgICAgIHt9CiAgICAgICAgICAgICkuYWRkVG8obWFwXzBjM2ZjNDgzNWI3NjQyYzBiMGFmOTM3ODU2MDM0MzBiKTsKICAgICAgICAKICAgIAogICAgICAgICAgICB2YXIgaWNvbl83Y2M4MDZjMjdmYjE0YTQ2YjVjMmZjZTE4ZTkwODlkYSA9IEwuQXdlc29tZU1hcmtlcnMuaWNvbigKICAgICAgICAgICAgICAgIHsiZXh0cmFDbGFzc2VzIjogImZhLXJvdGF0ZS0wIiwgImljb24iOiAiaW5mby1zaWduIiwgImljb25Db2xvciI6ICJ3aGl0ZSIsICJtYXJrZXJDb2xvciI6ICJibHVlIiwgInByZWZpeCI6ICJnbHlwaGljb24ifQogICAgICAgICAgICApOwogICAgICAgICAgICBtYXJrZXJfZjRmYjE3NDI0ZDNkNDE4NTk0NTdjNjMwZGY1NzhiNTAuc2V0SWNvbihpY29uXzdjYzgwNmMyN2ZiMTRhNDZiNWMyZmNlMThlOTA4OWRhKTsKICAgICAgICAKICAgIAogICAgICAgIHZhciBwb3B1cF8wNzY2ZDc3MTg0MWQ0NmQ5YTBjMDk2OTVmNTliN2UxOSA9IEwucG9wdXAoeyJtYXhXaWR0aCI6ICIxMDAlIn0pOwoKICAgICAgICAKICAgICAgICAgICAgdmFyIGh0bWxfNTYwNzkxOGJmOWFiNDZjM2JmY2U1N2UxMmRmNDFkNDUgPSAkKGA8ZGl2IGlkPSJodG1sXzU2MDc5MThiZjlhYjQ2YzNiZmNlNTdlMTJkZjQxZDQ1IiBzdHlsZT0id2lkdGg6IDEwMC4wJTsgaGVpZ2h0OiAxMDAuMCU7Ij48c3Ryb25nPkxvY2F0aW9uIE9uZTwvc3Ryb25nPC9kaXY+YClbMF07CiAgICAgICAgICAgIHBvcHVwXzA3NjZkNzcxODQxZDQ2ZDlhMGMwOTY5NWY1OWI3ZTE5LnNldENvbnRlbnQoaHRtbF81NjA3OTE4YmY5YWI0NmMzYmZjZTU3ZTEyZGY0MWQ0NSk7CiAgICAgICAgCgogICAgICAgIG1hcmtlcl9mNGZiMTc0MjRkM2Q0MTg1OTQ1N2M2MzBkZjU3OGI1MC5iaW5kUG9wdXAocG9wdXBfMDc2NmQ3NzE4NDFkNDZkOWEwYzA5Njk1ZjU5YjdlMTkpCiAgICAgICAgOwoKICAgICAgICAKICAgIAogICAgCiAgICAgICAgICAgIG1hcmtlcl9mNGZiMTc0MjRkM2Q0MTg1OTQ1N2M2MzBkZjU3OGI1MC5iaW5kVG9vbHRpcCgKICAgICAgICAgICAgICAgIGA8ZGl2PgogICAgICAgICAgICAgICAgICAgICBDbGljayBmb3IgbW9yZSBpbmZvCiAgICAgICAgICAgICAgICAgPC9kaXY+YCwKICAgICAgICAgICAgICAgIHsic3RpY2t5IjogdHJ1ZX0KICAgICAgICAgICAgKTsKICAgICAgICAKPC9zY3JpcHQ+ onload=\"this.contentDocument.open();this.contentDocument.write(atob(this.getAttribute('data-html')));this.contentDocument.close();\" allowfullscreen webkitallowfullscreen mozallowfullscreen></iframe></div></div>"
      ],
      "text/plain": [
       "<folium.folium.Map at 0x19a1e8b888>"
      ]
     },
     "metadata": {},
     "output_type": "display_data"
    },
    {
     "data": {
      "text/html": [
       "<div style=\"width:100%;\"><div style=\"position:relative;width:100%;height:0;padding-bottom:60%;\"><span style=\"color:#565656\">Make this Notebook Trusted to load map: File -> Trust Notebook</span><iframe src=\"about:blank\" style=\"position:absolute;width:100%;height:100%;left:0;top:0;border:none !important;\" data-html=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 onload=\"this.contentDocument.open();this.contentDocument.write(atob(this.getAttribute('data-html')));this.contentDocument.close();\" allowfullscreen webkitallowfullscreen mozallowfullscreen></iframe></div></div>"
      ],
      "text/plain": [
       "<folium.folium.Map at 0x19a1e8b888>"
      ]
     },
     "metadata": {},
     "output_type": "display_data"
    }
   ],
   "source": [
    "location(54.382797, 24.495503)"
   ]
  },
  {
   "cell_type": "code",
   "execution_count": null,
   "metadata": {},
   "outputs": [],
   "source": []
  }
 ],
 "metadata": {
  "kernelspec": {
   "display_name": "Python 3",
   "language": "python",
   "name": "python3"
  },
  "language_info": {
   "codemirror_mode": {
    "name": "ipython",
    "version": 3
   },
   "file_extension": ".py",
   "mimetype": "text/x-python",
   "name": "python",
   "nbconvert_exporter": "python",
   "pygments_lexer": "ipython3",
   "version": "3.7.4"
  }
 },
 "nbformat": 4,
 "nbformat_minor": 2
}
