{
 "cells": [
  {
   "cell_type": "markdown",
   "metadata": {},
   "source": [
    "# Breakdown of this Notebook:"
   ]
  },
  {
   "cell_type": "markdown",
   "metadata": {},
   "source": [
    "1. Loading the data and import the libraries.\n",
    "2. Data Cleading:\n",
    "    * Deleting redundant columns.\n",
    "    * Renaming the columns.\n",
    "    * Dropping the duplicates.\n",
    "    * Cleaning individual columns\n",
    "    * Removing the NaN value from the dataset\n",
    "    * Some transformation"
   ]
  },
  {
   "cell_type": "code",
   "execution_count": 1,
   "metadata": {},
   "outputs": [],
   "source": [
    "\n",
    "import numpy as np\n",
    "import pandas as pd\n",
    "import seaborn as sb\n",
    "import matplotlib.pyplot as plt\n",
    "import seaborn as sns\n",
    "from sklearn.linear_model import LogisticRegression\n",
    "from sklearn.linear_model import LinearRegression\n",
    "from sklearn.model_selection import train_test_split\n",
    "from sklearn.metrics import classification_report\n",
    "from sklearn.metrics import confusion_matrix\n",
    "from sklearn.metrics import r2_score\n",
    "import warnings\n",
    "warnings.filterwarnings('always')\n",
    "warnings.filterwarnings('ignore')\n",
    "import re\n",
    "from nltk.corpus import stopwords\n",
    "from sklearn.metrics.pairwise import linear_kernel\n",
    "from sklearn.feature_extraction.text import CountVectorizer\n",
    "from sklearn.feature_extraction.text import TfidfVectorizer"
   ]
  },
  {
   "cell_type": "code",
   "execution_count": 2,
   "metadata": {},
   "outputs": [
    {
     "data": {
      "text/html": [
       "<div>\n",
       "<style scoped>\n",
       "    .dataframe tbody tr th:only-of-type {\n",
       "        vertical-align: middle;\n",
       "    }\n",
       "\n",
       "    .dataframe tbody tr th {\n",
       "        vertical-align: top;\n",
       "    }\n",
       "\n",
       "    .dataframe thead th {\n",
       "        text-align: right;\n",
       "    }\n",
       "</style>\n",
       "<table border=\"1\" class=\"dataframe\">\n",
       "  <thead>\n",
       "    <tr style=\"text-align: right;\">\n",
       "      <th></th>\n",
       "      <th>Restaurant ID</th>\n",
       "      <th>Restaurant Name</th>\n",
       "      <th>Country Code</th>\n",
       "      <th>City</th>\n",
       "      <th>Address</th>\n",
       "      <th>Locality</th>\n",
       "      <th>Locality Verbose</th>\n",
       "      <th>Longitude</th>\n",
       "      <th>Latitude</th>\n",
       "      <th>Cuisines</th>\n",
       "      <th>...</th>\n",
       "      <th>Currency</th>\n",
       "      <th>Has Table booking</th>\n",
       "      <th>Has Online delivery</th>\n",
       "      <th>Is delivering now</th>\n",
       "      <th>Switch to order menu</th>\n",
       "      <th>Price range</th>\n",
       "      <th>Aggregate rating</th>\n",
       "      <th>Rating color</th>\n",
       "      <th>Rating text</th>\n",
       "      <th>Votes</th>\n",
       "    </tr>\n",
       "  </thead>\n",
       "  <tbody>\n",
       "    <tr>\n",
       "      <td>0</td>\n",
       "      <td>6317637</td>\n",
       "      <td>Le Petit Souffle</td>\n",
       "      <td>162</td>\n",
       "      <td>Makati City</td>\n",
       "      <td>Third Floor, Century City Mall, Kalayaan Avenu...</td>\n",
       "      <td>Century City Mall, Poblacion, Makati City</td>\n",
       "      <td>Century City Mall, Poblacion, Makati City, Mak...</td>\n",
       "      <td>121.027535</td>\n",
       "      <td>14.565443</td>\n",
       "      <td>French, Japanese, Desserts</td>\n",
       "      <td>...</td>\n",
       "      <td>Botswana Pula(P)</td>\n",
       "      <td>Yes</td>\n",
       "      <td>No</td>\n",
       "      <td>No</td>\n",
       "      <td>No</td>\n",
       "      <td>3</td>\n",
       "      <td>4.8</td>\n",
       "      <td>Dark Green</td>\n",
       "      <td>Excellent</td>\n",
       "      <td>314</td>\n",
       "    </tr>\n",
       "    <tr>\n",
       "      <td>1</td>\n",
       "      <td>6304287</td>\n",
       "      <td>Izakaya Kikufuji</td>\n",
       "      <td>162</td>\n",
       "      <td>Makati City</td>\n",
       "      <td>Little Tokyo, 2277 Chino Roces Avenue, Legaspi...</td>\n",
       "      <td>Little Tokyo, Legaspi Village, Makati City</td>\n",
       "      <td>Little Tokyo, Legaspi Village, Makati City, Ma...</td>\n",
       "      <td>121.014101</td>\n",
       "      <td>14.553708</td>\n",
       "      <td>Japanese</td>\n",
       "      <td>...</td>\n",
       "      <td>Botswana Pula(P)</td>\n",
       "      <td>Yes</td>\n",
       "      <td>No</td>\n",
       "      <td>No</td>\n",
       "      <td>No</td>\n",
       "      <td>3</td>\n",
       "      <td>4.5</td>\n",
       "      <td>Dark Green</td>\n",
       "      <td>Excellent</td>\n",
       "      <td>591</td>\n",
       "    </tr>\n",
       "    <tr>\n",
       "      <td>2</td>\n",
       "      <td>6300002</td>\n",
       "      <td>Heat - Edsa Shangri-La</td>\n",
       "      <td>162</td>\n",
       "      <td>Mandaluyong City</td>\n",
       "      <td>Edsa Shangri-La, 1 Garden Way, Ortigas, Mandal...</td>\n",
       "      <td>Edsa Shangri-La, Ortigas, Mandaluyong City</td>\n",
       "      <td>Edsa Shangri-La, Ortigas, Mandaluyong City, Ma...</td>\n",
       "      <td>121.056831</td>\n",
       "      <td>14.581404</td>\n",
       "      <td>Seafood, Asian, Filipino, Indian</td>\n",
       "      <td>...</td>\n",
       "      <td>Botswana Pula(P)</td>\n",
       "      <td>Yes</td>\n",
       "      <td>No</td>\n",
       "      <td>No</td>\n",
       "      <td>No</td>\n",
       "      <td>4</td>\n",
       "      <td>4.4</td>\n",
       "      <td>Green</td>\n",
       "      <td>Very Good</td>\n",
       "      <td>270</td>\n",
       "    </tr>\n",
       "    <tr>\n",
       "      <td>3</td>\n",
       "      <td>6318506</td>\n",
       "      <td>Ooma</td>\n",
       "      <td>162</td>\n",
       "      <td>Mandaluyong City</td>\n",
       "      <td>Third Floor, Mega Fashion Hall, SM Megamall, O...</td>\n",
       "      <td>SM Megamall, Ortigas, Mandaluyong City</td>\n",
       "      <td>SM Megamall, Ortigas, Mandaluyong City, Mandal...</td>\n",
       "      <td>121.056475</td>\n",
       "      <td>14.585318</td>\n",
       "      <td>Japanese, Sushi</td>\n",
       "      <td>...</td>\n",
       "      <td>Botswana Pula(P)</td>\n",
       "      <td>No</td>\n",
       "      <td>No</td>\n",
       "      <td>No</td>\n",
       "      <td>No</td>\n",
       "      <td>4</td>\n",
       "      <td>4.9</td>\n",
       "      <td>Dark Green</td>\n",
       "      <td>Excellent</td>\n",
       "      <td>365</td>\n",
       "    </tr>\n",
       "    <tr>\n",
       "      <td>4</td>\n",
       "      <td>6314302</td>\n",
       "      <td>Sambo Kojin</td>\n",
       "      <td>162</td>\n",
       "      <td>Mandaluyong City</td>\n",
       "      <td>Third Floor, Mega Atrium, SM Megamall, Ortigas...</td>\n",
       "      <td>SM Megamall, Ortigas, Mandaluyong City</td>\n",
       "      <td>SM Megamall, Ortigas, Mandaluyong City, Mandal...</td>\n",
       "      <td>121.057508</td>\n",
       "      <td>14.584450</td>\n",
       "      <td>Japanese, Korean</td>\n",
       "      <td>...</td>\n",
       "      <td>Botswana Pula(P)</td>\n",
       "      <td>Yes</td>\n",
       "      <td>No</td>\n",
       "      <td>No</td>\n",
       "      <td>No</td>\n",
       "      <td>4</td>\n",
       "      <td>4.8</td>\n",
       "      <td>Dark Green</td>\n",
       "      <td>Excellent</td>\n",
       "      <td>229</td>\n",
       "    </tr>\n",
       "  </tbody>\n",
       "</table>\n",
       "<p>5 rows × 21 columns</p>\n",
       "</div>"
      ],
      "text/plain": [
       "   Restaurant ID         Restaurant Name  Country Code              City  \\\n",
       "0        6317637        Le Petit Souffle           162       Makati City   \n",
       "1        6304287        Izakaya Kikufuji           162       Makati City   \n",
       "2        6300002  Heat - Edsa Shangri-La           162  Mandaluyong City   \n",
       "3        6318506                    Ooma           162  Mandaluyong City   \n",
       "4        6314302             Sambo Kojin           162  Mandaluyong City   \n",
       "\n",
       "                                             Address  \\\n",
       "0  Third Floor, Century City Mall, Kalayaan Avenu...   \n",
       "1  Little Tokyo, 2277 Chino Roces Avenue, Legaspi...   \n",
       "2  Edsa Shangri-La, 1 Garden Way, Ortigas, Mandal...   \n",
       "3  Third Floor, Mega Fashion Hall, SM Megamall, O...   \n",
       "4  Third Floor, Mega Atrium, SM Megamall, Ortigas...   \n",
       "\n",
       "                                     Locality  \\\n",
       "0   Century City Mall, Poblacion, Makati City   \n",
       "1  Little Tokyo, Legaspi Village, Makati City   \n",
       "2  Edsa Shangri-La, Ortigas, Mandaluyong City   \n",
       "3      SM Megamall, Ortigas, Mandaluyong City   \n",
       "4      SM Megamall, Ortigas, Mandaluyong City   \n",
       "\n",
       "                                    Locality Verbose   Longitude   Latitude  \\\n",
       "0  Century City Mall, Poblacion, Makati City, Mak...  121.027535  14.565443   \n",
       "1  Little Tokyo, Legaspi Village, Makati City, Ma...  121.014101  14.553708   \n",
       "2  Edsa Shangri-La, Ortigas, Mandaluyong City, Ma...  121.056831  14.581404   \n",
       "3  SM Megamall, Ortigas, Mandaluyong City, Mandal...  121.056475  14.585318   \n",
       "4  SM Megamall, Ortigas, Mandaluyong City, Mandal...  121.057508  14.584450   \n",
       "\n",
       "                           Cuisines  ...          Currency Has Table booking  \\\n",
       "0        French, Japanese, Desserts  ...  Botswana Pula(P)               Yes   \n",
       "1                          Japanese  ...  Botswana Pula(P)               Yes   \n",
       "2  Seafood, Asian, Filipino, Indian  ...  Botswana Pula(P)               Yes   \n",
       "3                   Japanese, Sushi  ...  Botswana Pula(P)                No   \n",
       "4                  Japanese, Korean  ...  Botswana Pula(P)               Yes   \n",
       "\n",
       "  Has Online delivery Is delivering now Switch to order menu Price range  \\\n",
       "0                  No                No                   No           3   \n",
       "1                  No                No                   No           3   \n",
       "2                  No                No                   No           4   \n",
       "3                  No                No                   No           4   \n",
       "4                  No                No                   No           4   \n",
       "\n",
       "   Aggregate rating  Rating color Rating text Votes  \n",
       "0               4.8    Dark Green   Excellent   314  \n",
       "1               4.5    Dark Green   Excellent   591  \n",
       "2               4.4         Green   Very Good   270  \n",
       "3               4.9    Dark Green   Excellent   365  \n",
       "4               4.8    Dark Green   Excellent   229  \n",
       "\n",
       "[5 rows x 21 columns]"
      ]
     },
     "execution_count": 2,
     "metadata": {},
     "output_type": "execute_result"
    }
   ],
   "source": [
    "# Loading the dataset\n",
    "zomato = pd.read_csv(\"C:/Sanket.f/Hacker Earth/zomato.csv\", encoding = \"ISO-8859-1\")\n",
    "zomato.head()"
   ]
  },
  {
   "cell_type": "code",
   "execution_count": 3,
   "metadata": {
    "scrolled": true
   },
   "outputs": [
    {
     "name": "stdout",
     "output_type": "stream",
     "text": [
      "<class 'pandas.core.frame.DataFrame'>\n",
      "RangeIndex: 9551 entries, 0 to 9550\n",
      "Data columns (total 21 columns):\n",
      "Restaurant ID           9551 non-null int64\n",
      "Restaurant Name         9551 non-null object\n",
      "Country Code            9551 non-null int64\n",
      "City                    9551 non-null object\n",
      "Address                 9551 non-null object\n",
      "Locality                9551 non-null object\n",
      "Locality Verbose        9551 non-null object\n",
      "Longitude               9551 non-null float64\n",
      "Latitude                9551 non-null float64\n",
      "Cuisines                9542 non-null object\n",
      "Average Cost for two    9551 non-null int64\n",
      "Currency                9551 non-null object\n",
      "Has Table booking       9551 non-null object\n",
      "Has Online delivery     9551 non-null object\n",
      "Is delivering now       9551 non-null object\n",
      "Switch to order menu    9551 non-null object\n",
      "Price range             9551 non-null int64\n",
      "Aggregate rating        9551 non-null float64\n",
      "Rating color            9551 non-null object\n",
      "Rating text             9551 non-null object\n",
      "Votes                   9551 non-null int64\n",
      "dtypes: float64(3), int64(5), object(13)\n",
      "memory usage: 1.5+ MB\n"
     ]
    }
   ],
   "source": [
    "zomato.info()"
   ]
  },
  {
   "cell_type": "code",
   "execution_count": 4,
   "metadata": {},
   "outputs": [
    {
     "data": {
      "text/plain": [
       "New Delhi    5473\n",
       "Gurgaon      1118\n",
       "Noida        1080\n",
       "Faridabad     251\n",
       "Ghaziabad      25\n",
       "             ... \n",
       "Huskisson       1\n",
       "Lorn            1\n",
       "Mc Millan       1\n",
       "Weirton         1\n",
       "Palm Cove       1\n",
       "Name: City, Length: 141, dtype: int64"
      ]
     },
     "execution_count": 4,
     "metadata": {},
     "output_type": "execute_result"
    }
   ],
   "source": [
    "zomato[\"City\"].value_counts()"
   ]
  },
  {
   "cell_type": "code",
   "execution_count": 5,
   "metadata": {
    "scrolled": true
   },
   "outputs": [
    {
     "data": {
      "text/plain": [
       "No    9551\n",
       "Name: Switch to order menu, dtype: int64"
      ]
     },
     "execution_count": 5,
     "metadata": {},
     "output_type": "execute_result"
    }
   ],
   "source": [
    "zomato[\"Switch to order menu\"].value_counts()"
   ]
  },
  {
   "cell_type": "code",
   "execution_count": 6,
   "metadata": {
    "scrolled": true
   },
   "outputs": [
    {
     "data": {
      "text/plain": [
       "Orange        3737\n",
       "White         2148\n",
       "Yellow        2100\n",
       "Green         1079\n",
       "Dark Green     301\n",
       "Red            186\n",
       "Name: Rating color, dtype: int64"
      ]
     },
     "execution_count": 6,
     "metadata": {},
     "output_type": "execute_result"
    }
   ],
   "source": [
    "zomato[\"Rating color\"].value_counts()"
   ]
  },
  {
   "cell_type": "code",
   "execution_count": 7,
   "metadata": {
    "scrolled": true
   },
   "outputs": [
    {
     "data": {
      "text/plain": [
       "Average      3737\n",
       "Not rated    2148\n",
       "Good         2100\n",
       "Very Good    1079\n",
       "Excellent     301\n",
       "Poor          186\n",
       "Name: Rating text, dtype: int64"
      ]
     },
     "execution_count": 7,
     "metadata": {},
     "output_type": "execute_result"
    }
   ],
   "source": [
    "zomato[\"Rating text\"].value_counts()"
   ]
  },
  {
   "cell_type": "markdown",
   "metadata": {},
   "source": [
    "### Data Cleaning and Feature Engineering"
   ]
  },
  {
   "cell_type": "code",
   "execution_count": 8,
   "metadata": {},
   "outputs": [
    {
     "data": {
      "text/plain": [
       "0"
      ]
     },
     "execution_count": 8,
     "metadata": {},
     "output_type": "execute_result"
    }
   ],
   "source": [
    "#It seems no columns need to be deleted\n",
    "# Removing the duplicates\n",
    "zomato.duplicated().sum()\n"
   ]
  },
  {
   "cell_type": "code",
   "execution_count": 9,
   "metadata": {},
   "outputs": [
    {
     "data": {
      "text/plain": [
       "Restaurant ID           0\n",
       "Restaurant Name         0\n",
       "Country Code            0\n",
       "City                    0\n",
       "Address                 0\n",
       "Locality                0\n",
       "Locality Verbose        0\n",
       "Longitude               0\n",
       "Latitude                0\n",
       "Cuisines                9\n",
       "Average Cost for two    0\n",
       "Currency                0\n",
       "Has Table booking       0\n",
       "Has Online delivery     0\n",
       "Is delivering now       0\n",
       "Switch to order menu    0\n",
       "Price range             0\n",
       "Aggregate rating        0\n",
       "Rating color            0\n",
       "Rating text             0\n",
       "Votes                   0\n",
       "dtype: int64"
      ]
     },
     "execution_count": 9,
     "metadata": {},
     "output_type": "execute_result"
    }
   ],
   "source": [
    "# Checking whether it has any null values\n",
    "zomato.isnull().sum()"
   ]
  },
  {
   "cell_type": "code",
   "execution_count": 10,
   "metadata": {},
   "outputs": [
    {
     "data": {
      "text/plain": [
       "Index(['Restaurant ID', 'Restaurant Name', 'Country Code', 'City', 'Address',\n",
       "       'Locality', 'Locality Verbose', 'Longitude', 'Latitude', 'Cuisines',\n",
       "       'Average Cost for two', 'Currency', 'Has Table booking',\n",
       "       'Has Online delivery', 'Is delivering now', 'Switch to order menu',\n",
       "       'Price range', 'Aggregate rating', 'Rating color', 'Rating text',\n",
       "       'Votes'],\n",
       "      dtype='object')"
      ]
     },
     "execution_count": 10,
     "metadata": {},
     "output_type": "execute_result"
    }
   ],
   "source": [
    "# Reading the column Names\n",
    "zomato.columns"
   ]
  },
  {
   "cell_type": "code",
   "execution_count": 11,
   "metadata": {},
   "outputs": [
    {
     "data": {
      "text/plain": [
       "Restaurant ID             int64\n",
       "Restaurant Name          object\n",
       "Country Code              int64\n",
       "City                     object\n",
       "Address                  object\n",
       "Locality                 object\n",
       "Locality Verbose         object\n",
       "Longitude               float64\n",
       "Latitude                float64\n",
       "Cuisines                 object\n",
       "Average Cost for two      int64\n",
       "Currency                 object\n",
       "Has Table booking        object\n",
       "Has Online delivery      object\n",
       "Is delivering now        object\n",
       "Switch to order menu     object\n",
       "Price range               int64\n",
       "Aggregate rating        float64\n",
       "Rating color             object\n",
       "Rating text              object\n",
       "Votes                     int64\n",
       "dtype: object"
      ]
     },
     "execution_count": 11,
     "metadata": {},
     "output_type": "execute_result"
    }
   ],
   "source": [
    "# All the values in columns are having correct datatypes so no conversion needed\n",
    "zomato.dtypes"
   ]
  },
  {
   "cell_type": "code",
   "execution_count": 12,
   "metadata": {},
   "outputs": [
    {
     "data": {
      "text/plain": [
       "0       4.8\n",
       "1       4.5\n",
       "2       4.4\n",
       "3       4.9\n",
       "4       4.8\n",
       "       ... \n",
       "9546    4.1\n",
       "9547    4.2\n",
       "9548    3.7\n",
       "9549    4.0\n",
       "9550    4.0\n",
       "Name: Aggregate rating, Length: 9551, dtype: float64"
      ]
     },
     "execution_count": 12,
     "metadata": {},
     "output_type": "execute_result"
    }
   ],
   "source": [
    "# Reading ratings of dataset\n",
    "zomato[\"Aggregate rating\"]"
   ]
  },
  {
   "cell_type": "code",
   "execution_count": 13,
   "metadata": {},
   "outputs": [
    {
     "data": {
      "text/plain": [
       "0       Century City Mall, Poblacion, Makati City, Mak...\n",
       "1       Little Tokyo, Legaspi Village, Makati City, Ma...\n",
       "2       Edsa Shangri-La, Ortigas, Mandaluyong City, Ma...\n",
       "3       SM Megamall, Ortigas, Mandaluyong City, Mandal...\n",
       "4       SM Megamall, Ortigas, Mandaluyong City, Mandal...\n",
       "                              ...                        \n",
       "9546                                  Karakí_y, ÛÁstanbul\n",
       "9547                                 Koôuyolu, ÛÁstanbul\n",
       "9548                               Kuruí_eôme, ÛÁstanbul\n",
       "9549                               Kuruí_eôme, ÛÁstanbul\n",
       "9550                                      Moda, ÛÁstanbul\n",
       "Name: Locality Verbose, Length: 9551, dtype: object"
      ]
     },
     "execution_count": 13,
     "metadata": {},
     "output_type": "execute_result"
    }
   ],
   "source": [
    "zomato['Locality Verbose']"
   ]
  },
  {
   "cell_type": "code",
   "execution_count": 14,
   "metadata": {},
   "outputs": [
    {
     "data": {
      "text/plain": [
       "Connaught Place                 122\n",
       "Rajouri Garden                   99\n",
       "Shahdara                         87\n",
       "Defence Colony                   86\n",
       "Malviya Nagar                    85\n",
       "                               ... \n",
       "Grovetown                         1\n",
       "Maddilapalem                      1\n",
       "Bogor Timur                       1\n",
       "Calangute Beach, Calangute        1\n",
       "Majaz Waterfront, Al Majaz 3      1\n",
       "Name: Locality, Length: 1208, dtype: int64"
      ]
     },
     "execution_count": 14,
     "metadata": {},
     "output_type": "execute_result"
    }
   ],
   "source": [
    "zomato[\"Locality\"].value_counts()"
   ]
  },
  {
   "cell_type": "code",
   "execution_count": 15,
   "metadata": {},
   "outputs": [
    {
     "data": {
      "text/plain": [
       "5286                       Bakery, Desserts\n",
       "6675     Italian, North Indian, Continental\n",
       "5301    North Indian, South Indian, Chinese\n",
       "266                     American, Breakfast\n",
       "2897                                 Mithai\n",
       "Name: Cuisines, dtype: object"
      ]
     },
     "execution_count": 15,
     "metadata": {},
     "output_type": "execute_result"
    }
   ],
   "source": [
    "zomato[\"Cuisines\"].sample(5)"
   ]
  },
  {
   "cell_type": "code",
   "execution_count": 16,
   "metadata": {},
   "outputs": [
    {
     "data": {
      "text/plain": [
       "Cafe Coffee Day     83\n",
       "Domino's Pizza      79\n",
       "Subway              63\n",
       "Green Chick Chop    51\n",
       "McDonald's          48\n",
       "                    ..\n",
       "Binge Restaurant     1\n",
       "The Chop House       1\n",
       "Omazoni              1\n",
       "The Roll Hut         1\n",
       "Mad Cowes Cafe       1\n",
       "Name: Restaurant Name, Length: 7446, dtype: int64"
      ]
     },
     "execution_count": 16,
     "metadata": {},
     "output_type": "execute_result"
    }
   ],
   "source": [
    "zomato[\"Restaurant Name\"].value_counts()"
   ]
  },
  {
   "cell_type": "code",
   "execution_count": 17,
   "metadata": {},
   "outputs": [],
   "source": [
    "# Lower Casing\n",
    "zomato[\"Locality\"] = zomato[\"Locality\"].str.lower()"
   ]
  },
  {
   "cell_type": "code",
   "execution_count": 18,
   "metadata": {},
   "outputs": [
    {
     "data": {
      "text/plain": [
       "0     century city mall, poblacion, makati city\n",
       "1    little tokyo, legaspi village, makati city\n",
       "2    edsa shangri-la, ortigas, mandaluyong city\n",
       "3        sm megamall, ortigas, mandaluyong city\n",
       "4        sm megamall, ortigas, mandaluyong city\n",
       "Name: Locality, dtype: object"
      ]
     },
     "execution_count": 18,
     "metadata": {},
     "output_type": "execute_result"
    }
   ],
   "source": [
    "zomato[\"Locality\"].head()"
   ]
  },
  {
   "cell_type": "code",
   "execution_count": 19,
   "metadata": {},
   "outputs": [
    {
     "data": {
      "text/html": [
       "<div>\n",
       "<style scoped>\n",
       "    .dataframe tbody tr th:only-of-type {\n",
       "        vertical-align: middle;\n",
       "    }\n",
       "\n",
       "    .dataframe tbody tr th {\n",
       "        vertical-align: top;\n",
       "    }\n",
       "\n",
       "    .dataframe thead th {\n",
       "        text-align: right;\n",
       "    }\n",
       "</style>\n",
       "<table border=\"1\" class=\"dataframe\">\n",
       "  <thead>\n",
       "    <tr style=\"text-align: right;\">\n",
       "      <th></th>\n",
       "      <th>Locality</th>\n",
       "      <th>Cuisines</th>\n",
       "    </tr>\n",
       "  </thead>\n",
       "  <tbody>\n",
       "    <tr>\n",
       "      <td>3974</td>\n",
       "      <td>hauz khas</td>\n",
       "      <td>Desserts, Fast Food</td>\n",
       "    </tr>\n",
       "    <tr>\n",
       "      <td>7432</td>\n",
       "      <td>sunder nagar</td>\n",
       "      <td>Continental, North Indian, European, Asian</td>\n",
       "    </tr>\n",
       "    <tr>\n",
       "      <td>1610</td>\n",
       "      <td>old railway road</td>\n",
       "      <td>Pizza, Fast Food</td>\n",
       "    </tr>\n",
       "    <tr>\n",
       "      <td>2372</td>\n",
       "      <td>swaroop nagar</td>\n",
       "      <td>Bakery, Fast Food</td>\n",
       "    </tr>\n",
       "    <tr>\n",
       "      <td>2827</td>\n",
       "      <td>chanakyapuri</td>\n",
       "      <td>North Indian, Mughlai</td>\n",
       "    </tr>\n",
       "  </tbody>\n",
       "</table>\n",
       "</div>"
      ],
      "text/plain": [
       "              Locality                                    Cuisines\n",
       "3974         hauz khas                         Desserts, Fast Food\n",
       "7432      sunder nagar  Continental, North Indian, European, Asian\n",
       "1610  old railway road                            Pizza, Fast Food\n",
       "2372     swaroop nagar                           Bakery, Fast Food\n",
       "2827      chanakyapuri                       North Indian, Mughlai"
      ]
     },
     "execution_count": 19,
     "metadata": {},
     "output_type": "execute_result"
    }
   ],
   "source": [
    "## Removal of Punctuations\n",
    "import string\n",
    "PUNCT_TO_REMOVE = string.punctuation\n",
    "def remove_punctuation(text):\n",
    "    \"\"\"This is custom function to remove the punctuation\"\"\"\n",
    "    return text.translate(str.maketrans('','', PUNCT_TO_REMOVE))\n",
    "\n",
    "zomato[\"Locality\"] = zomato[\"Locality\"].apply(lambda text: remove_punctuation(text))\n",
    "\n",
    "## Removal of stopwords\n",
    "from nltk.corpus import stopwords\n",
    "STOPWORDS = set(stopwords.words('english'))\n",
    "def remove_stopwords(text):\n",
    "    \"\"\"Custom function to remove the stopwords\"\"\"\n",
    "    return \" \".join([word for word in str(text).split() if word not in STOPWORDS])\n",
    "\n",
    "zomato[\"Locality\"] = zomato[\"Locality\"].apply(lambda text: remove_stopwords(text))\n",
    "\n",
    "zomato[[\"Locality\", \"Cuisines\"]].sample(5)"
   ]
  },
  {
   "cell_type": "code",
   "execution_count": 20,
   "metadata": {},
   "outputs": [],
   "source": [
    "# Restuarants Names\n",
    "restuarant_names = list(zomato['Restaurant Name'].unique())\n",
    "def get_top_words(column, top_nu_of_words, nu_of_word):\n",
    "    vec = CountVectorizer(ngram_range= nu_of_word, stop_words='english')\n",
    "    bag_of_words = vec.fit_transform(column)\n",
    "    sum_words = bag_of_words.sum(axis=0)\n",
    "    words_freq = [(word, sum_words[0, idx]) for word, idx in vec.vocabulary_.items()]\n",
    "    words_freq =sorted(words_freq, key = lambda x: x[1], reverse=True)\n",
    "    return words_freq[:top_nu_of_words]\n",
    "\n",
    "zomato = zomato.drop(['Votes','Longitude','Latitude', 'Has Table booking', 'Has Online delivery', 'Is delivering now', 'Switch to order menu'], axis =1)\n",
    "\n",
    "df_percent = zomato.sample(frac=0.5)"
   ]
  },
  {
   "cell_type": "code",
   "execution_count": 21,
   "metadata": {
    "scrolled": true
   },
   "outputs": [
    {
     "data": {
      "text/html": [
       "<div>\n",
       "<style scoped>\n",
       "    .dataframe tbody tr th:only-of-type {\n",
       "        vertical-align: middle;\n",
       "    }\n",
       "\n",
       "    .dataframe tbody tr th {\n",
       "        vertical-align: top;\n",
       "    }\n",
       "\n",
       "    .dataframe thead th {\n",
       "        text-align: right;\n",
       "    }\n",
       "</style>\n",
       "<table border=\"1\" class=\"dataframe\">\n",
       "  <thead>\n",
       "    <tr style=\"text-align: right;\">\n",
       "      <th></th>\n",
       "      <th>Restaurant ID</th>\n",
       "      <th>Restaurant Name</th>\n",
       "      <th>Country Code</th>\n",
       "      <th>City</th>\n",
       "      <th>Address</th>\n",
       "      <th>Locality</th>\n",
       "      <th>Locality Verbose</th>\n",
       "      <th>Cuisines</th>\n",
       "      <th>Average Cost for two</th>\n",
       "      <th>Currency</th>\n",
       "      <th>Price range</th>\n",
       "      <th>Aggregate rating</th>\n",
       "      <th>Rating color</th>\n",
       "      <th>Rating text</th>\n",
       "    </tr>\n",
       "  </thead>\n",
       "  <tbody>\n",
       "    <tr>\n",
       "      <td>598</td>\n",
       "      <td>210134</td>\n",
       "      <td>Grand Barbeque Buffet Restaurant</td>\n",
       "      <td>214</td>\n",
       "      <td>Dubai</td>\n",
       "      <td>Al Mina Road, Next to Ibis Styles Jumeirah Hot...</td>\n",
       "      <td>satwa</td>\n",
       "      <td>Satwa, Dubai</td>\n",
       "      <td>Indian, Asian</td>\n",
       "      <td>150</td>\n",
       "      <td>Emirati Diram(AED)</td>\n",
       "      <td>3</td>\n",
       "      <td>4.4</td>\n",
       "      <td>Green</td>\n",
       "      <td>Very Good</td>\n",
       "    </tr>\n",
       "    <tr>\n",
       "      <td>2915</td>\n",
       "      <td>304018</td>\n",
       "      <td>Spicy Food Court</td>\n",
       "      <td>1</td>\n",
       "      <td>New Delhi</td>\n",
       "      <td>Khasra 361, Near Bank Of India, Sultanpur, Nea...</td>\n",
       "      <td>chhatarpur</td>\n",
       "      <td>Chhatarpur, New Delhi</td>\n",
       "      <td>North Indian, Mughlai, Chinese</td>\n",
       "      <td>500</td>\n",
       "      <td>Indian Rupees(Rs.)</td>\n",
       "      <td>2</td>\n",
       "      <td>2.7</td>\n",
       "      <td>Orange</td>\n",
       "      <td>Average</td>\n",
       "    </tr>\n",
       "    <tr>\n",
       "      <td>9352</td>\n",
       "      <td>6901231</td>\n",
       "      <td>Tipu Sultan</td>\n",
       "      <td>215</td>\n",
       "      <td>Birmingham</td>\n",
       "      <td>43 Alcester Road, Moseley, Birmingham B13 8AA</td>\n",
       "      <td>moseley</td>\n",
       "      <td>Moseley, Birmingham</td>\n",
       "      <td>Indian, Pakistani</td>\n",
       "      <td>45</td>\n",
       "      <td>Pounds(£)</td>\n",
       "      <td>3</td>\n",
       "      <td>4.0</td>\n",
       "      <td>Green</td>\n",
       "      <td>Very Good</td>\n",
       "    </tr>\n",
       "    <tr>\n",
       "      <td>3913</td>\n",
       "      <td>807</td>\n",
       "      <td>Cosy Restaurant</td>\n",
       "      <td>1</td>\n",
       "      <td>New Delhi</td>\n",
       "      <td>B-1/30, Hauz Khas, New Delhi</td>\n",
       "      <td>hauz khas</td>\n",
       "      <td>Hauz Khas, New Delhi</td>\n",
       "      <td>North Indian, Mughlai, Chinese</td>\n",
       "      <td>1100</td>\n",
       "      <td>Indian Rupees(Rs.)</td>\n",
       "      <td>3</td>\n",
       "      <td>3.4</td>\n",
       "      <td>Orange</td>\n",
       "      <td>Average</td>\n",
       "    </tr>\n",
       "    <tr>\n",
       "      <td>5894</td>\n",
       "      <td>18361244</td>\n",
       "      <td>Utsav</td>\n",
       "      <td>1</td>\n",
       "      <td>New Delhi</td>\n",
       "      <td>Shop G-17, Aggarwal Millenium Tower-I, Netaji ...</td>\n",
       "      <td>netaji subhash place</td>\n",
       "      <td>Netaji Subhash Place, New Delhi</td>\n",
       "      <td>Bakery</td>\n",
       "      <td>250</td>\n",
       "      <td>Indian Rupees(Rs.)</td>\n",
       "      <td>1</td>\n",
       "      <td>3.5</td>\n",
       "      <td>Yellow</td>\n",
       "      <td>Good</td>\n",
       "    </tr>\n",
       "    <tr>\n",
       "      <td>...</td>\n",
       "      <td>...</td>\n",
       "      <td>...</td>\n",
       "      <td>...</td>\n",
       "      <td>...</td>\n",
       "      <td>...</td>\n",
       "      <td>...</td>\n",
       "      <td>...</td>\n",
       "      <td>...</td>\n",
       "      <td>...</td>\n",
       "      <td>...</td>\n",
       "      <td>...</td>\n",
       "      <td>...</td>\n",
       "      <td>...</td>\n",
       "      <td>...</td>\n",
       "    </tr>\n",
       "    <tr>\n",
       "      <td>1717</td>\n",
       "      <td>18368009</td>\n",
       "      <td>Maa Bhagwati Tiffins</td>\n",
       "      <td>1</td>\n",
       "      <td>Gurgaon</td>\n",
       "      <td>Subhash Nagar, Sector 12, Gurgaon</td>\n",
       "      <td>sector 12</td>\n",
       "      <td>Sector 12, Gurgaon</td>\n",
       "      <td>North Indian</td>\n",
       "      <td>200</td>\n",
       "      <td>Indian Rupees(Rs.)</td>\n",
       "      <td>1</td>\n",
       "      <td>3.0</td>\n",
       "      <td>Orange</td>\n",
       "      <td>Average</td>\n",
       "    </tr>\n",
       "    <tr>\n",
       "      <td>707</td>\n",
       "      <td>2500076</td>\n",
       "      <td>Balbeer's Kitchen &amp; Bar</td>\n",
       "      <td>1</td>\n",
       "      <td>Aurangabad</td>\n",
       "      <td>Shendra, Near Cambridge School, Jalna Road, Ch...</td>\n",
       "      <td>chicalthana</td>\n",
       "      <td>Chicalthana, Aurangabad</td>\n",
       "      <td>Italian, Continental, Chinese, North Indian</td>\n",
       "      <td>850</td>\n",
       "      <td>Indian Rupees(Rs.)</td>\n",
       "      <td>3</td>\n",
       "      <td>3.3</td>\n",
       "      <td>Orange</td>\n",
       "      <td>Average</td>\n",
       "    </tr>\n",
       "    <tr>\n",
       "      <td>9178</td>\n",
       "      <td>2700010</td>\n",
       "      <td>Yo China Restaurant</td>\n",
       "      <td>1</td>\n",
       "      <td>Ranchi</td>\n",
       "      <td>2nd Floor, Citadel Building, Main Road, Ranchi</td>\n",
       "      <td>hindpiri</td>\n",
       "      <td>Hindpiri, Ranchi</td>\n",
       "      <td>Chinese</td>\n",
       "      <td>650</td>\n",
       "      <td>Indian Rupees(Rs.)</td>\n",
       "      <td>2</td>\n",
       "      <td>3.4</td>\n",
       "      <td>Orange</td>\n",
       "      <td>Average</td>\n",
       "    </tr>\n",
       "    <tr>\n",
       "      <td>2063</td>\n",
       "      <td>306883</td>\n",
       "      <td>Subway</td>\n",
       "      <td>1</td>\n",
       "      <td>Gurgaon</td>\n",
       "      <td>7, Ground Floor, Welldone Tech Park, Sohna Roa...</td>\n",
       "      <td>sohna road</td>\n",
       "      <td>Sohna Road, Gurgaon</td>\n",
       "      <td>American, Fast Food, Salad, Healthy Food</td>\n",
       "      <td>500</td>\n",
       "      <td>Indian Rupees(Rs.)</td>\n",
       "      <td>2</td>\n",
       "      <td>2.9</td>\n",
       "      <td>Orange</td>\n",
       "      <td>Average</td>\n",
       "    </tr>\n",
       "    <tr>\n",
       "      <td>8327</td>\n",
       "      <td>18469933</td>\n",
       "      <td>Brajwasi</td>\n",
       "      <td>1</td>\n",
       "      <td>Noida</td>\n",
       "      <td>Shop 4, Chauhan Market, Behind Advant Navis Bu...</td>\n",
       "      <td>sector 132</td>\n",
       "      <td>Sector 132, Noida</td>\n",
       "      <td>North Indian</td>\n",
       "      <td>500</td>\n",
       "      <td>Indian Rupees(Rs.)</td>\n",
       "      <td>2</td>\n",
       "      <td>0.0</td>\n",
       "      <td>White</td>\n",
       "      <td>Not rated</td>\n",
       "    </tr>\n",
       "  </tbody>\n",
       "</table>\n",
       "<p>4776 rows × 14 columns</p>\n",
       "</div>"
      ],
      "text/plain": [
       "      Restaurant ID                   Restaurant Name  Country Code  \\\n",
       "598          210134  Grand Barbeque Buffet Restaurant           214   \n",
       "2915         304018                  Spicy Food Court             1   \n",
       "9352        6901231                       Tipu Sultan           215   \n",
       "3913            807                   Cosy Restaurant             1   \n",
       "5894       18361244                             Utsav             1   \n",
       "...             ...                               ...           ...   \n",
       "1717       18368009              Maa Bhagwati Tiffins             1   \n",
       "707         2500076           Balbeer's Kitchen & Bar             1   \n",
       "9178        2700010               Yo China Restaurant             1   \n",
       "2063         306883                            Subway             1   \n",
       "8327       18469933                          Brajwasi             1   \n",
       "\n",
       "            City                                            Address  \\\n",
       "598        Dubai  Al Mina Road, Next to Ibis Styles Jumeirah Hot...   \n",
       "2915   New Delhi  Khasra 361, Near Bank Of India, Sultanpur, Nea...   \n",
       "9352  Birmingham      43 Alcester Road, Moseley, Birmingham B13 8AA   \n",
       "3913   New Delhi                       B-1/30, Hauz Khas, New Delhi   \n",
       "5894   New Delhi  Shop G-17, Aggarwal Millenium Tower-I, Netaji ...   \n",
       "...          ...                                                ...   \n",
       "1717     Gurgaon                  Subhash Nagar, Sector 12, Gurgaon   \n",
       "707   Aurangabad  Shendra, Near Cambridge School, Jalna Road, Ch...   \n",
       "9178      Ranchi     2nd Floor, Citadel Building, Main Road, Ranchi   \n",
       "2063     Gurgaon  7, Ground Floor, Welldone Tech Park, Sohna Roa...   \n",
       "8327       Noida  Shop 4, Chauhan Market, Behind Advant Navis Bu...   \n",
       "\n",
       "                  Locality                 Locality Verbose  \\\n",
       "598                  satwa                     Satwa, Dubai   \n",
       "2915            chhatarpur            Chhatarpur, New Delhi   \n",
       "9352               moseley              Moseley, Birmingham   \n",
       "3913             hauz khas             Hauz Khas, New Delhi   \n",
       "5894  netaji subhash place  Netaji Subhash Place, New Delhi   \n",
       "...                    ...                              ...   \n",
       "1717             sector 12               Sector 12, Gurgaon   \n",
       "707            chicalthana          Chicalthana, Aurangabad   \n",
       "9178              hindpiri                 Hindpiri, Ranchi   \n",
       "2063            sohna road              Sohna Road, Gurgaon   \n",
       "8327            sector 132                Sector 132, Noida   \n",
       "\n",
       "                                         Cuisines  Average Cost for two  \\\n",
       "598                                 Indian, Asian                   150   \n",
       "2915               North Indian, Mughlai, Chinese                   500   \n",
       "9352                            Indian, Pakistani                    45   \n",
       "3913               North Indian, Mughlai, Chinese                  1100   \n",
       "5894                                       Bakery                   250   \n",
       "...                                           ...                   ...   \n",
       "1717                                 North Indian                   200   \n",
       "707   Italian, Continental, Chinese, North Indian                   850   \n",
       "9178                                      Chinese                   650   \n",
       "2063     American, Fast Food, Salad, Healthy Food                   500   \n",
       "8327                                 North Indian                   500   \n",
       "\n",
       "                Currency  Price range  Aggregate rating Rating color  \\\n",
       "598   Emirati Diram(AED)            3               4.4        Green   \n",
       "2915  Indian Rupees(Rs.)            2               2.7       Orange   \n",
       "9352          Pounds(£)            3               4.0        Green   \n",
       "3913  Indian Rupees(Rs.)            3               3.4       Orange   \n",
       "5894  Indian Rupees(Rs.)            1               3.5       Yellow   \n",
       "...                  ...          ...               ...          ...   \n",
       "1717  Indian Rupees(Rs.)            1               3.0       Orange   \n",
       "707   Indian Rupees(Rs.)            3               3.3       Orange   \n",
       "9178  Indian Rupees(Rs.)            2               3.4       Orange   \n",
       "2063  Indian Rupees(Rs.)            2               2.9       Orange   \n",
       "8327  Indian Rupees(Rs.)            2               0.0        White   \n",
       "\n",
       "     Rating text  \n",
       "598    Very Good  \n",
       "2915     Average  \n",
       "9352   Very Good  \n",
       "3913     Average  \n",
       "5894        Good  \n",
       "...          ...  \n",
       "1717     Average  \n",
       "707      Average  \n",
       "9178     Average  \n",
       "2063     Average  \n",
       "8327   Not rated  \n",
       "\n",
       "[4776 rows x 14 columns]"
      ]
     },
     "execution_count": 21,
     "metadata": {},
     "output_type": "execute_result"
    }
   ],
   "source": [
    "df_percent"
   ]
  },
  {
   "cell_type": "code",
   "execution_count": 29,
   "metadata": {},
   "outputs": [
    {
     "data": {
      "text/plain": [
       "New Delhi    5473\n",
       "Gurgaon      1118\n",
       "Noida        1080\n",
       "Faridabad     251\n",
       "Ghaziabad      25\n",
       "             ... \n",
       "Huskisson       1\n",
       "Lorn            1\n",
       "Mc Millan       1\n",
       "Weirton         1\n",
       "Palm Cove       1\n",
       "Name: City, Length: 141, dtype: int64"
      ]
     },
     "execution_count": 29,
     "metadata": {},
     "output_type": "execute_result"
    }
   ],
   "source": [
    "zomato[\"City\"].value_counts()"
   ]
  },
  {
   "cell_type": "code",
   "execution_count": 22,
   "metadata": {},
   "outputs": [
    {
     "data": {
      "text/plain": [
       "Index(['Restaurant ID', 'Restaurant Name', 'Country Code', 'City', 'Address',\n",
       "       'Locality', 'Locality Verbose', 'Cuisines', 'Average Cost for two',\n",
       "       'Currency', 'Price range', 'Aggregate rating', 'Rating color',\n",
       "       'Rating text'],\n",
       "      dtype='object')"
      ]
     },
     "execution_count": 22,
     "metadata": {},
     "output_type": "execute_result"
    }
   ],
   "source": [
    "zomato.columns"
   ]
  },
  {
   "cell_type": "markdown",
   "metadata": {},
   "source": [
    "# TF-IDF Vectorization\n",
    "TF-IDF (Term Frequency-Inverse Document Frequency) vectors for each document. This will give you a matrix where each column represents a word in the general vocabulary (all words that appear in at least one document) and each column represents a restaurant, as before.\n",
    "\n",
    "TF-IDF is the statistical method of assessing the meaning of a word in a given document. Now, I will use the TF-IDF vectorization on the dataset:"
   ]
  },
  {
   "cell_type": "code",
   "execution_count": 23,
   "metadata": {},
   "outputs": [],
   "source": [
    "df_percent.set_index('Restaurant Name', inplace=True)\n",
    "indices = pd.Series(df_percent.index)\n",
    "\n",
    "# Creating tf-idf matrix\n",
    "tfidf = TfidfVectorizer(analyzer='word', ngram_range=(1, 2), min_df=0, stop_words='english')\n",
    "tfidf_matrix = tfidf.fit_transform(df_percent['Locality'])\n",
    "\n",
    "cosine_similarities = linear_kernel(tfidf_matrix, tfidf_matrix)"
   ]
  },
  {
   "cell_type": "code",
   "execution_count": 24,
   "metadata": {},
   "outputs": [],
   "source": [
    "# here name in function is restuarant_name\n",
    "def recommend(name, cosine_similarities = cosine_similarities):\n",
    "    \n",
    "    # Create a list to put top restaurants\n",
    "    recommend_restaurant = []\n",
    "    \n",
    "    # Find the index of the hotel entered\n",
    "    idx = indices[indices == name].index[0]\n",
    "    \n",
    "    # Find the restaurants with a similar cosine-sim value and order them from bigges number\n",
    "    score_series = pd.Series(cosine_similarities[idx]).sort_values(ascending=False)\n",
    "    \n",
    "    # Extract top 30 restaurant indexes with a similar cosine-sim value\n",
    "    top30_indexes = list(score_series.iloc[0:31].index)\n",
    "    \n",
    "    # Names of the top 30 restaurants\n",
    "    for each in top30_indexes:\n",
    "        recommend_restaurant.append(list(df_percent.index)[each])\n",
    "    \n",
    "    # Creating the new data set to show similar restaurants\n",
    "    df_new = pd.DataFrame(columns=['Cuisines', 'Aggregate rating', 'Average Cost for two'])\n",
    "    \n",
    "    # Create the top 30 similar restaurants with some of their columns\n",
    "    for each in recommend_restaurant:\n",
    "        df_new = df_new.append(pd.DataFrame(df_percent[['Cuisines','Aggregate rating', 'Average Cost for two']][df_percent.index == each].sample()))\n",
    "    \n",
    "    # Drop the same named restaurants and sort only the top 10 by the highest rating\n",
    "    df_new = df_new.drop_duplicates(subset=['Cuisines','Aggregate rating', 'Average Cost for two'], keep=False)\n",
    "    df_new = df_new.sort_values(by='Aggregate rating', ascending=False).head(10)\n",
    "    \n",
    "    print('TOP %s RESTAURANTS LIKE %s In GIVEN LOCALITY: ' % (str(len(df_new)), name))\n",
    "    \n",
    "    return df_new"
   ]
  },
  {
   "cell_type": "code",
   "execution_count": 26,
   "metadata": {},
   "outputs": [
    {
     "name": "stdout",
     "output_type": "stream",
     "text": [
      "TOP 10 RESTAURANTS LIKE Spicy Food Court In GIVEN LOCALITY: \n"
     ]
    },
    {
     "data": {
      "text/html": [
       "<div>\n",
       "<style scoped>\n",
       "    .dataframe tbody tr th:only-of-type {\n",
       "        vertical-align: middle;\n",
       "    }\n",
       "\n",
       "    .dataframe tbody tr th {\n",
       "        vertical-align: top;\n",
       "    }\n",
       "\n",
       "    .dataframe thead th {\n",
       "        text-align: right;\n",
       "    }\n",
       "</style>\n",
       "<table border=\"1\" class=\"dataframe\">\n",
       "  <thead>\n",
       "    <tr style=\"text-align: right;\">\n",
       "      <th></th>\n",
       "      <th>Cuisines</th>\n",
       "      <th>Aggregate rating</th>\n",
       "      <th>Average Cost for two</th>\n",
       "    </tr>\n",
       "  </thead>\n",
       "  <tbody>\n",
       "    <tr>\n",
       "      <td>The Bento Cafe</td>\n",
       "      <td>Asian, Chinese, Japanese</td>\n",
       "      <td>4.2</td>\n",
       "      <td>750</td>\n",
       "    </tr>\n",
       "    <tr>\n",
       "      <td>The Tea Place by Manjushree</td>\n",
       "      <td>Cafe, Beverages</td>\n",
       "      <td>4.1</td>\n",
       "      <td>700</td>\n",
       "    </tr>\n",
       "    <tr>\n",
       "      <td>Al Arabian Express</td>\n",
       "      <td>Mughlai</td>\n",
       "      <td>3.7</td>\n",
       "      <td>500</td>\n",
       "    </tr>\n",
       "    <tr>\n",
       "      <td>Happy Hakka</td>\n",
       "      <td>Chinese, Asian, Thai</td>\n",
       "      <td>3.6</td>\n",
       "      <td>650</td>\n",
       "    </tr>\n",
       "    <tr>\n",
       "      <td>Kay's Chicken Corner</td>\n",
       "      <td>Mughlai, North Indian, Chinese</td>\n",
       "      <td>3.6</td>\n",
       "      <td>700</td>\n",
       "    </tr>\n",
       "    <tr>\n",
       "      <td>Cafe Red</td>\n",
       "      <td>Cafe</td>\n",
       "      <td>3.6</td>\n",
       "      <td>1100</td>\n",
       "    </tr>\n",
       "    <tr>\n",
       "      <td>Woodfire Grille</td>\n",
       "      <td>American, Seafood, Steak</td>\n",
       "      <td>3.6</td>\n",
       "      <td>70</td>\n",
       "    </tr>\n",
       "    <tr>\n",
       "      <td>Nirmal Vada Pav</td>\n",
       "      <td>Street Food</td>\n",
       "      <td>3.5</td>\n",
       "      <td>200</td>\n",
       "    </tr>\n",
       "    <tr>\n",
       "      <td>Le Marche Sugar &amp; Spice Cafe</td>\n",
       "      <td>Cafe, Italian, Fast Food</td>\n",
       "      <td>3.5</td>\n",
       "      <td>700</td>\n",
       "    </tr>\n",
       "    <tr>\n",
       "      <td>Sharma Bakers</td>\n",
       "      <td>Bakery</td>\n",
       "      <td>3.5</td>\n",
       "      <td>200</td>\n",
       "    </tr>\n",
       "  </tbody>\n",
       "</table>\n",
       "</div>"
      ],
      "text/plain": [
       "                                                    Cuisines  \\\n",
       "The Bento Cafe                      Asian, Chinese, Japanese   \n",
       "The Tea Place by Manjushree                  Cafe, Beverages   \n",
       "Al Arabian Express                                   Mughlai   \n",
       "Happy Hakka                             Chinese, Asian, Thai   \n",
       "Kay's Chicken Corner          Mughlai, North Indian, Chinese   \n",
       "Cafe Red                                                Cafe   \n",
       "Woodfire Grille                     American, Seafood, Steak   \n",
       "Nirmal Vada Pav                                  Street Food   \n",
       "Le Marche Sugar & Spice Cafe        Cafe, Italian, Fast Food   \n",
       "Sharma Bakers                                         Bakery   \n",
       "\n",
       "                              Aggregate rating Average Cost for two  \n",
       "The Bento Cafe                             4.2                  750  \n",
       "The Tea Place by Manjushree                4.1                  700  \n",
       "Al Arabian Express                         3.7                  500  \n",
       "Happy Hakka                                3.6                  650  \n",
       "Kay's Chicken Corner                       3.6                  700  \n",
       "Cafe Red                                   3.6                 1100  \n",
       "Woodfire Grille                            3.6                   70  \n",
       "Nirmal Vada Pav                            3.5                  200  \n",
       "Le Marche Sugar & Spice Cafe               3.5                  700  \n",
       "Sharma Bakers                              3.5                  200  "
      ]
     },
     "execution_count": 26,
     "metadata": {},
     "output_type": "execute_result"
    }
   ],
   "source": [
    "recommend('Spicy Food Court')"
   ]
  },
  {
   "cell_type": "code",
   "execution_count": null,
   "metadata": {},
   "outputs": [],
   "source": []
  }
 ],
 "metadata": {
  "kernelspec": {
   "display_name": "Python 3",
   "language": "python",
   "name": "python3"
  },
  "language_info": {
   "codemirror_mode": {
    "name": "ipython",
    "version": 3
   },
   "file_extension": ".py",
   "mimetype": "text/x-python",
   "name": "python",
   "nbconvert_exporter": "python",
   "pygments_lexer": "ipython3",
   "version": "3.7.4"
  }
 },
 "nbformat": 4,
 "nbformat_minor": 2
}
